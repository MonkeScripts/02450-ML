{
 "cells": [
  {
   "cell_type": "markdown",
   "metadata": {},
   "source": [
    "## Bagging"
   ]
  },
  {
   "cell_type": "code",
   "execution_count": null,
   "metadata": {},
   "outputs": [],
   "source": [
    "# exercise 9.1.1\n",
    "import importlib_resources\n",
    "import matplotlib.pyplot as plt\n",
    "import numpy as np\n",
    "from scipy.io import loadmat\n",
    "from sklearn.linear_model import LogisticRegression\n",
    "\n",
    "from dtuimldmtools import BinClassifierEnsemble, bootstrap, dbplot, dbprobplot\n",
    "\n",
    "filename = importlib_resources.files(\"dtuimldmtools\").joinpath(\"data/synth5.mat\")\n",
    "\n",
    "# Load Matlab data file and extract variables of interest\n",
    "mat_data = loadmat(filename)\n",
    "X = mat_data[\"X\"]\n",
    "y = mat_data[\"y\"].squeeze()\n",
    "attributeNames = [name[0] for name in mat_data[\"attributeNames\"].squeeze()]\n",
    "classNames = [name[0][0] for name in mat_data[\"classNames\"]]\n",
    "N, M = X.shape\n",
    "C = len(classNames)\n",
    "\n",
    "# Fit model using bootstrap aggregation (bagging):\n",
    "\n",
    "# Number of rounds of bagging\n",
    "L = 100\n",
    "\n",
    "# Weights for selecting samples in each bootstrap\n",
    "weights = np.ones((N, 1), dtype=float) / N\n",
    "\n",
    "# Storage of trained log.reg. classifiers fitted in each bootstrap\n",
    "logits = [0] * L\n",
    "votes = np.zeros((N,))\n",
    "\n",
    "# For each round of bagging\n",
    "for l in range(L):\n",
    "\n",
    "    # Extract training set by random sampling with replacement from X and y\n",
    "    X_train, y_train = bootstrap(X, y, N, weights)\n",
    "\n",
    "    # Fit logistic regression model to training data and save result\n",
    "    logit_classifier = LogisticRegression()\n",
    "    logit_classifier.fit(X_train, y_train)\n",
    "    logits[l] = logit_classifier\n",
    "    y_est = logit_classifier.predict(X).T\n",
    "    votes = votes + y_est\n",
    "\n",
    "    ErrorRate = (y != y_est).sum(dtype=float) / N\n",
    "    print(\"Error rate: {:2.2f}%\".format(ErrorRate * 100))\n",
    "\n",
    "# Estimated value of class labels (using 0.5 as threshold) by majority voting\n",
    "y_est_ensemble = votes > (L / 2)\n",
    "\n",
    "# Compute error rate\n",
    "ErrorRate = (y != y_est_ensemble).sum(dtype=float) / N\n",
    "print(\"Error rate: {:3.2f}%\".format(ErrorRate * 100))\n",
    "\n",
    "ce = BinClassifierEnsemble(logits)\n",
    "plt.figure(1)\n",
    "dbprobplot(ce, X, y, \"auto\", resolution=200)\n",
    "plt.figure(2)\n",
    "dbplot(ce, X, y, \"auto\", resolution=200)\n",
    "\n",
    "plt.show()\n",
    "\n",
    "print(\"Ran Exercise 9.1.1\")"
   ]
  }
 ],
 "metadata": {
  "kernelspec": {
   "display_name": "base",
   "language": "python",
   "name": "python3"
  },
  "language_info": {
   "name": "python",
   "version": "3.12.7"
  }
 },
 "nbformat": 4,
 "nbformat_minor": 2
}
